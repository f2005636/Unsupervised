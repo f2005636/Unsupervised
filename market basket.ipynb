{
 "cells": [
  {
   "cell_type": "code",
   "execution_count": 1,
   "metadata": {},
   "outputs": [],
   "source": [
    "import numpy as np\n",
    "import pandas as pd\n",
    "from apyori import apriori"
   ]
  },
  {
   "cell_type": "code",
   "execution_count": 2,
   "metadata": {},
   "outputs": [
    {
     "data": {
      "text/plain": [
       "(31, 5)"
      ]
     },
     "execution_count": 2,
     "metadata": {},
     "output_type": "execute_result"
    }
   ],
   "source": [
    "df = pd.read_csv('basket.csv', header = None)\n",
    "df.shape"
   ]
  },
  {
   "cell_type": "code",
   "execution_count": 3,
   "metadata": {},
   "outputs": [],
   "source": [
    "transactions = []\n",
    "for i in range(df.shape[0]):\n",
    "    transactions.append([str(df.values[i,j]) for j in range(0, 5)])"
   ]
  },
  {
   "cell_type": "code",
   "execution_count": 4,
   "metadata": {},
   "outputs": [],
   "source": [
    "rules = apriori(transactions, min_support = 0.2, min_confidence = 0.15, min_lift = 1.8, \n",
    "                min_length = 2, max_length = 4)\n",
    "results = list(rules)"
   ]
  },
  {
   "cell_type": "code",
   "execution_count": 5,
   "metadata": {
    "scrolled": false
   },
   "outputs": [
    {
     "data": {
      "text/plain": [
       "[RelationRecord(items=frozenset({'MF', 'RF'}), support=0.22580645161290322, ordered_statistics=[OrderedStatistic(items_base=frozenset({'MF'}), items_add=frozenset({'RF'}), confidence=0.875, lift=2.2604166666666665), OrderedStatistic(items_base=frozenset({'RF'}), items_add=frozenset({'MF'}), confidence=0.5833333333333334, lift=2.260416666666667)]),\n",
       " RelationRecord(items=frozenset({'IF', 'KF', 'CF'}), support=0.3870967741935484, ordered_statistics=[OrderedStatistic(items_base=frozenset({'CF'}), items_add=frozenset({'IF', 'KF'}), confidence=0.7058823529411765, lift=1.823529411764706), OrderedStatistic(items_base=frozenset({'IF', 'KF'}), items_add=frozenset({'CF'}), confidence=1.0, lift=1.823529411764706)]),\n",
       " RelationRecord(items=frozenset({'MF', 'nan', 'RF'}), support=0.22580645161290322, ordered_statistics=[OrderedStatistic(items_base=frozenset({'MF'}), items_add=frozenset({'nan', 'RF'}), confidence=0.875, lift=2.465909090909091), OrderedStatistic(items_base=frozenset({'RF'}), items_add=frozenset({'MF', 'nan'}), confidence=0.5833333333333334, lift=2.260416666666667), OrderedStatistic(items_base=frozenset({'MF', 'nan'}), items_add=frozenset({'RF'}), confidence=0.875, lift=2.2604166666666665), OrderedStatistic(items_base=frozenset({'nan', 'RF'}), items_add=frozenset({'MF'}), confidence=0.6363636363636364, lift=2.465909090909091)]),\n",
       " RelationRecord(items=frozenset({'nan', 'IF', 'KF', 'CF'}), support=0.3548387096774194, ordered_statistics=[OrderedStatistic(items_base=frozenset({'CF'}), items_add=frozenset({'nan', 'IF', 'KF'}), confidence=0.6470588235294118, lift=1.8235294117647058), OrderedStatistic(items_base=frozenset({'nan', 'IF', 'KF'}), items_add=frozenset({'CF'}), confidence=1.0, lift=1.823529411764706)])]"
      ]
     },
     "execution_count": 5,
     "metadata": {},
     "output_type": "execute_result"
    }
   ],
   "source": [
    "results"
   ]
  },
  {
   "cell_type": "code",
   "execution_count": 6,
   "metadata": {},
   "outputs": [],
   "source": [
    "def inspect(results):\n",
    "    li          = [tuple(result[2][0][0])[0] for result in results]\n",
    "    ri          = [tuple(result[2][0][1])[0] for result in results]\n",
    "    supports    = [result[1] for result in results]\n",
    "    confidences = [result[2][0][2] for result in results]\n",
    "    lifts       = [result[2][0][3] for result in results]\n",
    "    return list(zip(li, ri, supports, confidences, lifts))\n",
    "resultsinDataFrame = pd.DataFrame(inspect(results), columns = ['Left Item', 'Right Item', 'Support', 'Confidence', 'Lift'])"
   ]
  },
  {
   "cell_type": "code",
   "execution_count": 7,
   "metadata": {},
   "outputs": [
    {
     "data": {
      "text/html": [
       "<div>\n",
       "<style scoped>\n",
       "    .dataframe tbody tr th:only-of-type {\n",
       "        vertical-align: middle;\n",
       "    }\n",
       "\n",
       "    .dataframe tbody tr th {\n",
       "        vertical-align: top;\n",
       "    }\n",
       "\n",
       "    .dataframe thead th {\n",
       "        text-align: right;\n",
       "    }\n",
       "</style>\n",
       "<table border=\"1\" class=\"dataframe\">\n",
       "  <thead>\n",
       "    <tr style=\"text-align: right;\">\n",
       "      <th></th>\n",
       "      <th>Left Item</th>\n",
       "      <th>Right Item</th>\n",
       "      <th>Support</th>\n",
       "      <th>Confidence</th>\n",
       "      <th>Lift</th>\n",
       "    </tr>\n",
       "  </thead>\n",
       "  <tbody>\n",
       "    <tr>\n",
       "      <th>0</th>\n",
       "      <td>MF</td>\n",
       "      <td>RF</td>\n",
       "      <td>0.225806</td>\n",
       "      <td>0.875000</td>\n",
       "      <td>2.260417</td>\n",
       "    </tr>\n",
       "    <tr>\n",
       "      <th>1</th>\n",
       "      <td>CF</td>\n",
       "      <td>IF</td>\n",
       "      <td>0.387097</td>\n",
       "      <td>0.705882</td>\n",
       "      <td>1.823529</td>\n",
       "    </tr>\n",
       "    <tr>\n",
       "      <th>2</th>\n",
       "      <td>MF</td>\n",
       "      <td>nan</td>\n",
       "      <td>0.225806</td>\n",
       "      <td>0.875000</td>\n",
       "      <td>2.465909</td>\n",
       "    </tr>\n",
       "    <tr>\n",
       "      <th>3</th>\n",
       "      <td>CF</td>\n",
       "      <td>nan</td>\n",
       "      <td>0.354839</td>\n",
       "      <td>0.647059</td>\n",
       "      <td>1.823529</td>\n",
       "    </tr>\n",
       "  </tbody>\n",
       "</table>\n",
       "</div>"
      ],
      "text/plain": [
       "  Left Item Right Item   Support  Confidence      Lift\n",
       "0        MF         RF  0.225806    0.875000  2.260417\n",
       "1        CF         IF  0.387097    0.705882  1.823529\n",
       "2        MF        nan  0.225806    0.875000  2.465909\n",
       "3        CF        nan  0.354839    0.647059  1.823529"
      ]
     },
     "execution_count": 7,
     "metadata": {},
     "output_type": "execute_result"
    }
   ],
   "source": [
    "resultsinDataFrame"
   ]
  }
 ],
 "metadata": {
  "kernelspec": {
   "display_name": "Python 3",
   "language": "python",
   "name": "python3"
  },
  "language_info": {
   "codemirror_mode": {
    "name": "ipython",
    "version": 3
   },
   "file_extension": ".py",
   "mimetype": "text/x-python",
   "name": "python",
   "nbconvert_exporter": "python",
   "pygments_lexer": "ipython3",
   "version": "3.7.6"
  }
 },
 "nbformat": 4,
 "nbformat_minor": 4
}
